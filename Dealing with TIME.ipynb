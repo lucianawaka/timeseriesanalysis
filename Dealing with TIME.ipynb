{
 "cells": [
  {
   "cell_type": "code",
   "execution_count": 1,
   "id": "3be7426d",
   "metadata": {},
   "outputs": [],
   "source": [
    "import pandas as pd\n",
    "import numpy as np"
   ]
  },
  {
   "cell_type": "markdown",
   "id": "9ba4def3",
   "metadata": {},
   "source": [
    "## Generate series of times"
   ]
  },
  {
   "cell_type": "code",
   "execution_count": 2,
   "id": "e0f7e405",
   "metadata": {},
   "outputs": [],
   "source": [
    "# Specify with start date and number of periods\n",
    "# freq='M' End of month\n",
    "# freq='MS' Start of month\n",
    "\n",
    "rng = pd.date_range('2016 Jul 15 10:15', periods = 10, freq='M')"
   ]
  },
  {
   "cell_type": "code",
   "execution_count": 3,
   "id": "2eddf0bf",
   "metadata": {},
   "outputs": [
    {
     "data": {
      "text/plain": [
       "DatetimeIndex(['2016-07-31 10:15:00', '2016-08-31 10:15:00',\n",
       "               '2016-09-30 10:15:00', '2016-10-31 10:15:00',\n",
       "               '2016-11-30 10:15:00', '2016-12-31 10:15:00',\n",
       "               '2017-01-31 10:15:00', '2017-02-28 10:15:00',\n",
       "               '2017-03-31 10:15:00', '2017-04-30 10:15:00'],\n",
       "              dtype='datetime64[ns]', freq='M')"
      ]
     },
     "execution_count": 3,
     "metadata": {},
     "output_type": "execute_result"
    }
   ],
   "source": [
    "rng"
   ]
  },
  {
   "cell_type": "code",
   "execution_count": 4,
   "id": "43920808",
   "metadata": {},
   "outputs": [
    {
     "data": {
      "text/plain": [
       "pandas.core.indexes.datetimes.DatetimeIndex"
      ]
     },
     "execution_count": 4,
     "metadata": {},
     "output_type": "execute_result"
    }
   ],
   "source": [
    "type(rng)"
   ]
  },
  {
   "cell_type": "code",
   "execution_count": 5,
   "id": "978c502f",
   "metadata": {},
   "outputs": [
    {
     "data": {
      "text/plain": [
       "pandas._libs.tslibs.timestamps.Timestamp"
      ]
     },
     "execution_count": 5,
     "metadata": {},
     "output_type": "execute_result"
    }
   ],
   "source": [
    "type(rng[0])"
   ]
  },
  {
   "cell_type": "code",
   "execution_count": 6,
   "id": "1afc0ab2",
   "metadata": {},
   "outputs": [],
   "source": [
    "# My dog needs a walk every 8h\n",
    "# normalize=True same period of time\n",
    "start_end = pd.date_range(start='2016 Jul 15 10:15', end='2016 Jul 25', freq='1D' , normalize=True)"
   ]
  },
  {
   "cell_type": "code",
   "execution_count": 7,
   "id": "aa36511e",
   "metadata": {},
   "outputs": [
    {
     "data": {
      "text/plain": [
       "DatetimeIndex(['2016-07-15', '2016-07-16', '2016-07-17', '2016-07-18',\n",
       "               '2016-07-19', '2016-07-20', '2016-07-21', '2016-07-22',\n",
       "               '2016-07-23', '2016-07-24', '2016-07-25'],\n",
       "              dtype='datetime64[ns]', freq='D')"
      ]
     },
     "execution_count": 7,
     "metadata": {},
     "output_type": "execute_result"
    }
   ],
   "source": [
    "start_end"
   ]
  },
  {
   "cell_type": "markdown",
   "id": "437caf13",
   "metadata": {},
   "source": [
    "## Timestamps"
   ]
  },
  {
   "cell_type": "code",
   "execution_count": 8,
   "id": "69ff8217",
   "metadata": {},
   "outputs": [
    {
     "data": {
      "text/plain": [
       "Timestamp('2016-07-10 00:00:00')"
      ]
     },
     "execution_count": 8,
     "metadata": {},
     "output_type": "execute_result"
    }
   ],
   "source": [
    "# add increasing detail\n",
    "pd.Timestamp('2016-07-10')"
   ]
  },
  {
   "cell_type": "code",
   "execution_count": 9,
   "id": "b59787ea",
   "metadata": {},
   "outputs": [
    {
     "data": {
      "text/plain": [
       "Timestamp('2016-07-10 10:15:15')"
      ]
     },
     "execution_count": 9,
     "metadata": {},
     "output_type": "execute_result"
    }
   ],
   "source": [
    "pd.Timestamp('2016-07-10 10:15:15')"
   ]
  },
  {
   "cell_type": "code",
   "execution_count": 10,
   "id": "9afc93e5",
   "metadata": {},
   "outputs": [],
   "source": [
    "t = pd.Timestamp('2023-03-18 08:46:25')"
   ]
  },
  {
   "cell_type": "code",
   "execution_count": 11,
   "id": "0f7191cc",
   "metadata": {},
   "outputs": [
    {
     "data": {
      "text/plain": [
       "5"
      ]
     },
     "execution_count": 11,
     "metadata": {},
     "output_type": "execute_result"
    }
   ],
   "source": [
    "t.dayofweek"
   ]
  },
  {
   "cell_type": "code",
   "execution_count": 12,
   "id": "6aea411e",
   "metadata": {},
   "outputs": [
    {
     "data": {
      "text/plain": [
       "'Saturday'"
      ]
     },
     "execution_count": 12,
     "metadata": {},
     "output_type": "execute_result"
    }
   ],
   "source": [
    "t.day_name()"
   ]
  },
  {
   "cell_type": "code",
   "execution_count": 13,
   "id": "6bc1abf4",
   "metadata": {},
   "outputs": [
    {
     "data": {
      "text/plain": [
       "1"
      ]
     },
     "execution_count": 13,
     "metadata": {},
     "output_type": "execute_result"
    }
   ],
   "source": [
    "t.quarter"
   ]
  },
  {
   "cell_type": "markdown",
   "id": "bf363a23",
   "metadata": {},
   "source": [
    "### Time Offsets\n",
    "**Compensação de Tempo**"
   ]
  },
  {
   "cell_type": "code",
   "execution_count": 14,
   "id": "2a57d823",
   "metadata": {},
   "outputs": [
    {
     "data": {
      "text/plain": [
       "Timedelta('7 days 00:00:00.000001')"
      ]
     },
     "execution_count": 14,
     "metadata": {},
     "output_type": "execute_result"
    }
   ],
   "source": [
    "pd.Timedelta('7 days 1us')"
   ]
  },
  {
   "cell_type": "code",
   "execution_count": 15,
   "id": "8ee42d4e",
   "metadata": {},
   "outputs": [
    {
     "data": {
      "text/plain": [
       "Timestamp('2023-03-20 09:00:00')"
      ]
     },
     "execution_count": 15,
     "metadata": {},
     "output_type": "execute_result"
    }
   ],
   "source": [
    "pd.Timestamp('2023-03-18 9:00') + pd.Timedelta('2 days')"
   ]
  },
  {
   "cell_type": "code",
   "execution_count": 16,
   "id": "3eb4ad12",
   "metadata": {},
   "outputs": [
    {
     "data": {
      "text/plain": [
       "DatetimeIndex(['2016-08-01 10:15:00', '2016-09-01 10:15:00',\n",
       "               '2016-10-01 10:15:00', '2016-11-01 10:15:00',\n",
       "               '2016-12-01 10:15:00', '2017-01-01 10:15:00',\n",
       "               '2017-02-01 10:15:00', '2017-03-01 10:15:00',\n",
       "               '2017-04-01 10:15:00', '2017-05-01 10:15:00'],\n",
       "              dtype='datetime64[ns]', freq=None)"
      ]
     },
     "execution_count": 16,
     "metadata": {},
     "output_type": "execute_result"
    }
   ],
   "source": [
    "# Month Start instead of month end\n",
    "rng + pd.Timedelta('1day')"
   ]
  },
  {
   "cell_type": "code",
   "execution_count": 17,
   "id": "d32cb9a2",
   "metadata": {},
   "outputs": [
    {
     "data": {
      "text/plain": [
       "Timedelta('0 days 00:00:00.000000015')"
      ]
     },
     "execution_count": 17,
     "metadata": {},
     "output_type": "execute_result"
    }
   ],
   "source": [
    "# Without multiplying\n",
    "pd.Timedelta('15ns')"
   ]
  },
  {
   "cell_type": "markdown",
   "id": "4b66b14f",
   "metadata": {},
   "source": [
    "### Time spans\n",
    "**Intervalos de tempo**"
   ]
  },
  {
   "cell_type": "code",
   "execution_count": 18,
   "id": "9d661508",
   "metadata": {},
   "outputs": [],
   "source": [
    "p = pd.Period('03/2023')"
   ]
  },
  {
   "cell_type": "code",
   "execution_count": 19,
   "id": "7246b7d6",
   "metadata": {},
   "outputs": [],
   "source": [
    "t = pd.Timestamp('03/18/2023')"
   ]
  },
  {
   "cell_type": "code",
   "execution_count": 20,
   "id": "aeb93e74",
   "metadata": {},
   "outputs": [
    {
     "data": {
      "text/plain": [
       "True"
      ]
     },
     "execution_count": 20,
     "metadata": {},
     "output_type": "execute_result"
    }
   ],
   "source": [
    "p.start_time < t and p.end_time > t"
   ]
  },
  {
   "cell_type": "code",
   "execution_count": 21,
   "id": "40b2cb45",
   "metadata": {},
   "outputs": [],
   "source": [
    "# Round the hour\n",
    "rng2 = pd.period_range('2023-03-18 09:03', freq = 'H', periods = 10)"
   ]
  },
  {
   "cell_type": "code",
   "execution_count": 22,
   "id": "362ed41e",
   "metadata": {},
   "outputs": [
    {
     "data": {
      "text/plain": [
       "PeriodIndex(['2023-03-18 09:00', '2023-03-18 10:00', '2023-03-18 11:00',\n",
       "             '2023-03-18 12:00', '2023-03-18 13:00', '2023-03-18 14:00',\n",
       "             '2023-03-18 15:00', '2023-03-18 16:00', '2023-03-18 17:00',\n",
       "             '2023-03-18 18:00'],\n",
       "            dtype='period[H]')"
      ]
     },
     "execution_count": 22,
     "metadata": {},
     "output_type": "execute_result"
    }
   ],
   "source": [
    "rng2"
   ]
  },
  {
   "cell_type": "code",
   "execution_count": 23,
   "id": "640c5d7e",
   "metadata": {},
   "outputs": [],
   "source": [
    "# Use Minutes 60T\n",
    "rng2 = pd.period_range('2023-03-18 09:03', freq = '60T', periods = 10)"
   ]
  },
  {
   "cell_type": "code",
   "execution_count": 24,
   "id": "07c22698",
   "metadata": {},
   "outputs": [
    {
     "data": {
      "text/plain": [
       "PeriodIndex(['2023-03-18 09:03', '2023-03-18 10:03', '2023-03-18 11:03',\n",
       "             '2023-03-18 12:03', '2023-03-18 13:03', '2023-03-18 14:03',\n",
       "             '2023-03-18 15:03', '2023-03-18 16:03', '2023-03-18 17:03',\n",
       "             '2023-03-18 18:03'],\n",
       "            dtype='period[60T]')"
      ]
     },
     "execution_count": 24,
     "metadata": {},
     "output_type": "execute_result"
    }
   ],
   "source": [
    "rng2"
   ]
  },
  {
   "cell_type": "markdown",
   "id": "6fb6e63a",
   "metadata": {},
   "source": [
    "### Periods\n",
    "One specific date during a Period of time"
   ]
  },
  {
   "cell_type": "code",
   "execution_count": 35,
   "id": "15c76ff3",
   "metadata": {},
   "outputs": [
    {
     "data": {
      "text/plain": [
       "Period('1991-05', 'M')"
      ]
     },
     "execution_count": 35,
     "metadata": {},
     "output_type": "execute_result"
    }
   ],
   "source": [
    "p = pd.Period('1991-05')\n",
    "p"
   ]
  },
  {
   "cell_type": "code",
   "execution_count": 36,
   "id": "b8b00a42",
   "metadata": {},
   "outputs": [
    {
     "data": {
      "text/plain": [
       "Timestamp('1991-05-01 00:00:00')"
      ]
     },
     "execution_count": 36,
     "metadata": {},
     "output_type": "execute_result"
    }
   ],
   "source": [
    "p.start_time"
   ]
  },
  {
   "cell_type": "code",
   "execution_count": 37,
   "id": "a41ba25b",
   "metadata": {},
   "outputs": [
    {
     "data": {
      "text/plain": [
       "Timestamp('1991-05-31 23:59:59.999999999')"
      ]
     },
     "execution_count": 37,
     "metadata": {},
     "output_type": "execute_result"
    }
   ],
   "source": [
    "p.end_time"
   ]
  },
  {
   "cell_type": "code",
   "execution_count": 38,
   "id": "a80ffca0",
   "metadata": {},
   "outputs": [],
   "source": [
    "t = pd.Timestamp('May 14, 1991 10:00')"
   ]
  },
  {
   "cell_type": "code",
   "execution_count": 39,
   "id": "d39a51ee",
   "metadata": {},
   "outputs": [
    {
     "data": {
      "text/plain": [
       "True"
      ]
     },
     "execution_count": 39,
     "metadata": {},
     "output_type": "execute_result"
    }
   ],
   "source": [
    "t > p.start_time"
   ]
  },
  {
   "cell_type": "code",
   "execution_count": 40,
   "id": "0a989216",
   "metadata": {},
   "outputs": [
    {
     "data": {
      "text/plain": [
       "True"
      ]
     },
     "execution_count": 40,
     "metadata": {},
     "output_type": "execute_result"
    }
   ],
   "source": [
    "t < p.end_time"
   ]
  },
  {
   "cell_type": "code",
   "execution_count": 41,
   "id": "8a5809cc",
   "metadata": {},
   "outputs": [
    {
     "data": {
      "text/plain": [
       "True"
      ]
     },
     "execution_count": 41,
     "metadata": {},
     "output_type": "execute_result"
    }
   ],
   "source": [
    "p.start_time < t < p.end_time"
   ]
  },
  {
   "cell_type": "markdown",
   "id": "f3eedf01",
   "metadata": {},
   "source": [
    "### Index a data range"
   ]
  },
  {
   "cell_type": "code",
   "execution_count": 49,
   "id": "fbd13337",
   "metadata": {},
   "outputs": [],
   "source": [
    "num_periods = 40\n",
    "ts_dt = pd.Series(range(num_periods), pd.date_range('2023-03-19 11:30', freq='60T', periods = num_periods))\n",
    "\n",
    "\n",
    "\n",
    "#### PERIOD\n",
    "ts_dt = pd.Series(range(num_periods), pd.period_range('2023-03-19 11:30', freq='60T', periods = num_periods))"
   ]
  },
  {
   "cell_type": "code",
   "execution_count": 50,
   "id": "40c3f5f8",
   "metadata": {},
   "outputs": [
    {
     "data": {
      "text/plain": [
       "2023-03-19 11:30:00    0\n",
       "2023-03-19 12:30:00    1\n",
       "2023-03-19 13:30:00    2\n",
       "2023-03-19 14:30:00    3\n",
       "2023-03-19 15:30:00    4\n",
       "Freq: 60T, dtype: int64"
      ]
     },
     "execution_count": 50,
     "metadata": {},
     "output_type": "execute_result"
    }
   ],
   "source": [
    "ts_dt.head()"
   ]
  },
  {
   "cell_type": "code",
   "execution_count": 51,
   "id": "e7f24388",
   "metadata": {},
   "outputs": [
    {
     "data": {
      "text/plain": [
       "pandas.core.series.Series"
      ]
     },
     "execution_count": 51,
     "metadata": {},
     "output_type": "execute_result"
    }
   ],
   "source": [
    "type(ts_dt)"
   ]
  },
  {
   "cell_type": "code",
   "execution_count": 52,
   "id": "2483030e",
   "metadata": {},
   "outputs": [
    {
     "data": {
      "text/plain": [
       "pandas.core.indexes.datetimes.DatetimeIndex"
      ]
     },
     "execution_count": 52,
     "metadata": {},
     "output_type": "execute_result"
    }
   ],
   "source": [
    "type(ts_dt.index)"
   ]
  },
  {
   "cell_type": "code",
   "execution_count": 53,
   "id": "8094b7c3",
   "metadata": {},
   "outputs": [
    {
     "data": {
      "text/plain": [
       "pandas._libs.tslibs.timestamps.Timestamp"
      ]
     },
     "execution_count": 53,
     "metadata": {},
     "output_type": "execute_result"
    }
   ],
   "source": [
    "type(ts_dt.index[0])"
   ]
  },
  {
   "cell_type": "code",
   "execution_count": 54,
   "id": "d2449065",
   "metadata": {},
   "outputs": [],
   "source": [
    "ts_pd = ts_dt.to_period()"
   ]
  },
  {
   "cell_type": "code",
   "execution_count": 55,
   "id": "a494376e",
   "metadata": {},
   "outputs": [
    {
     "data": {
      "text/plain": [
       "2023-03-19 11:30     0\n",
       "2023-03-19 12:30     1\n",
       "2023-03-19 13:30     2\n",
       "2023-03-19 14:30     3\n",
       "2023-03-19 15:30     4\n",
       "2023-03-19 16:30     5\n",
       "2023-03-19 17:30     6\n",
       "2023-03-19 18:30     7\n",
       "2023-03-19 19:30     8\n",
       "2023-03-19 20:30     9\n",
       "2023-03-19 21:30    10\n",
       "2023-03-19 22:30    11\n",
       "2023-03-19 23:30    12\n",
       "2023-03-20 00:30    13\n",
       "2023-03-20 01:30    14\n",
       "2023-03-20 02:30    15\n",
       "2023-03-20 03:30    16\n",
       "2023-03-20 04:30    17\n",
       "2023-03-20 05:30    18\n",
       "2023-03-20 06:30    19\n",
       "2023-03-20 07:30    20\n",
       "2023-03-20 08:30    21\n",
       "2023-03-20 09:30    22\n",
       "2023-03-20 10:30    23\n",
       "2023-03-20 11:30    24\n",
       "2023-03-20 12:30    25\n",
       "2023-03-20 13:30    26\n",
       "2023-03-20 14:30    27\n",
       "2023-03-20 15:30    28\n",
       "2023-03-20 16:30    29\n",
       "2023-03-20 17:30    30\n",
       "2023-03-20 18:30    31\n",
       "2023-03-20 19:30    32\n",
       "2023-03-20 20:30    33\n",
       "2023-03-20 21:30    34\n",
       "2023-03-20 22:30    35\n",
       "2023-03-20 23:30    36\n",
       "2023-03-21 00:30    37\n",
       "2023-03-21 01:30    38\n",
       "2023-03-21 02:30    39\n",
       "Freq: 60T, dtype: int64"
      ]
     },
     "execution_count": 55,
     "metadata": {},
     "output_type": "execute_result"
    }
   ],
   "source": [
    "ts_pd"
   ]
  },
  {
   "cell_type": "code",
   "execution_count": 57,
   "id": "26a4357f",
   "metadata": {},
   "outputs": [
    {
     "data": {
      "text/plain": [
       "pandas.core.indexes.period.PeriodIndex"
      ]
     },
     "execution_count": 57,
     "metadata": {},
     "output_type": "execute_result"
    }
   ],
   "source": [
    "type(ts_pd.index)"
   ]
  },
  {
   "cell_type": "code",
   "execution_count": 60,
   "id": "c9ebce8e",
   "metadata": {},
   "outputs": [
    {
     "ename": "TypeError",
     "evalue": "to_timestamp() got an unexpected keyword argument 'inplace'",
     "output_type": "error",
     "traceback": [
      "\u001b[1;31m---------------------------------------------------------------------------\u001b[0m",
      "\u001b[1;31mTypeError\u001b[0m                                 Traceback (most recent call last)",
      "Input \u001b[1;32mIn [60]\u001b[0m, in \u001b[0;36m<cell line: 1>\u001b[1;34m()\u001b[0m\n\u001b[1;32m----> 1\u001b[0m \u001b[43mts_pd\u001b[49m\u001b[38;5;241;43m.\u001b[39;49m\u001b[43mto_timestamp\u001b[49m\u001b[43m(\u001b[49m\u001b[43minplace\u001b[49m\u001b[43m \u001b[49m\u001b[38;5;241;43m=\u001b[39;49m\u001b[43m \u001b[49m\u001b[38;5;28;43;01mTrue\u001b[39;49;00m\u001b[43m)\u001b[49m\n",
      "\u001b[1;31mTypeError\u001b[0m: to_timestamp() got an unexpected keyword argument 'inplace'"
     ]
    }
   ],
   "source": [
    "ts_pd.to_timestamp()"
   ]
  },
  {
   "cell_type": "code",
   "execution_count": 59,
   "id": "995a3f23",
   "metadata": {},
   "outputs": [
    {
     "data": {
      "text/plain": [
       "pandas.core.indexes.period.PeriodIndex"
      ]
     },
     "execution_count": 59,
     "metadata": {},
     "output_type": "execute_result"
    }
   ],
   "source": [
    "type(ts_pd.index)"
   ]
  },
  {
   "cell_type": "code",
   "execution_count": 61,
   "id": "4acf4a11",
   "metadata": {},
   "outputs": [
    {
     "data": {
      "text/plain": [
       "2023-03-19 13:30:00    2\n",
       "Freq: 60T, dtype: int64"
      ]
     },
     "execution_count": 61,
     "metadata": {},
     "output_type": "execute_result"
    }
   ],
   "source": [
    "ts_dt['2023-03-19 13']"
   ]
  },
  {
   "cell_type": "code",
   "execution_count": 62,
   "id": "fbe397eb",
   "metadata": {},
   "outputs": [
    {
     "data": {
      "text/plain": [
       "2023-03-19 13:30    2\n",
       "Freq: 60T, dtype: int64"
      ]
     },
     "execution_count": 62,
     "metadata": {},
     "output_type": "execute_result"
    }
   ],
   "source": [
    "ts_pd['2023-03-19 13']"
   ]
  },
  {
   "cell_type": "code",
   "execution_count": null,
   "id": "a36bcbac",
   "metadata": {},
   "outputs": [],
   "source": []
  }
 ],
 "metadata": {
  "kernelspec": {
   "display_name": "Python 3 (ipykernel)",
   "language": "python",
   "name": "python3"
  },
  "language_info": {
   "codemirror_mode": {
    "name": "ipython",
    "version": 3
   },
   "file_extension": ".py",
   "mimetype": "text/x-python",
   "name": "python",
   "nbconvert_exporter": "python",
   "pygments_lexer": "ipython3",
   "version": "3.9.12"
  }
 },
 "nbformat": 4,
 "nbformat_minor": 5
}
