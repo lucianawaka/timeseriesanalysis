{
 "cells": [
  {
   "cell_type": "code",
   "execution_count": 1,
   "id": "3be7426d",
   "metadata": {},
   "outputs": [],
   "source": [
    "import pandas as pd\n",
    "import numpy as np"
   ]
  },
  {
   "cell_type": "markdown",
   "id": "9ba4def3",
   "metadata": {},
   "source": [
    "## Generate series of times"
   ]
  },
  {
   "cell_type": "code",
   "execution_count": 11,
   "id": "e0f7e405",
   "metadata": {},
   "outputs": [],
   "source": [
    "# Specify with start date and number of periods\n",
    "# freq='M' End of month\n",
    "# freq='MS' Start of month\n",
    "\n",
    "rng = pd.date_range('2016 Jul 15 10:15', periods = 10, freq='B')"
   ]
  },
  {
   "cell_type": "code",
   "execution_count": 12,
   "id": "2eddf0bf",
   "metadata": {},
   "outputs": [
    {
     "data": {
      "text/plain": [
       "DatetimeIndex(['2016-07-15 10:15:00', '2016-07-18 10:15:00',\n",
       "               '2016-07-19 10:15:00', '2016-07-20 10:15:00',\n",
       "               '2016-07-21 10:15:00', '2016-07-22 10:15:00',\n",
       "               '2016-07-25 10:15:00', '2016-07-26 10:15:00',\n",
       "               '2016-07-27 10:15:00', '2016-07-28 10:15:00'],\n",
       "              dtype='datetime64[ns]', freq='B')"
      ]
     },
     "execution_count": 12,
     "metadata": {},
     "output_type": "execute_result"
    }
   ],
   "source": [
    "rng"
   ]
  },
  {
   "cell_type": "code",
   "execution_count": 46,
   "id": "43920808",
   "metadata": {},
   "outputs": [
    {
     "data": {
      "text/plain": [
       "pandas.core.indexes.datetimes.DatetimeIndex"
      ]
     },
     "execution_count": 46,
     "metadata": {},
     "output_type": "execute_result"
    }
   ],
   "source": [
    "type(rng)"
   ]
  },
  {
   "cell_type": "code",
   "execution_count": 45,
   "id": "978c502f",
   "metadata": {},
   "outputs": [
    {
     "data": {
      "text/plain": [
       "pandas._libs.tslibs.timestamps.Timestamp"
      ]
     },
     "execution_count": 45,
     "metadata": {},
     "output_type": "execute_result"
    }
   ],
   "source": [
    "type(rng[0])"
   ]
  },
  {
   "cell_type": "code",
   "execution_count": 39,
   "id": "1afc0ab2",
   "metadata": {},
   "outputs": [],
   "source": [
    "# My dog needs a walk every 8h\n",
    "# normalize=True same period of time\n",
    "start_end = pd.date_range(start='2016 Jul 15 10:15', end='2016 Jul 25', freq='1D' , normalize=True)"
   ]
  },
  {
   "cell_type": "code",
   "execution_count": 40,
   "id": "aa36511e",
   "metadata": {},
   "outputs": [
    {
     "data": {
      "text/plain": [
       "DatetimeIndex(['2016-07-15', '2016-07-16', '2016-07-17', '2016-07-18',\n",
       "               '2016-07-19', '2016-07-20', '2016-07-21', '2016-07-22',\n",
       "               '2016-07-23', '2016-07-24', '2016-07-25'],\n",
       "              dtype='datetime64[ns]', freq='D')"
      ]
     },
     "execution_count": 40,
     "metadata": {},
     "output_type": "execute_result"
    }
   ],
   "source": [
    "start_end"
   ]
  },
  {
   "cell_type": "markdown",
   "id": "437caf13",
   "metadata": {},
   "source": [
    "## Timestamps"
   ]
  },
  {
   "cell_type": "code",
   "execution_count": 41,
   "id": "69ff8217",
   "metadata": {},
   "outputs": [
    {
     "data": {
      "text/plain": [
       "Timestamp('2016-07-10 00:00:00')"
      ]
     },
     "execution_count": 41,
     "metadata": {},
     "output_type": "execute_result"
    }
   ],
   "source": [
    "# add increasing detail\n",
    "pd.Timestamp('2016-07-10')"
   ]
  },
  {
   "cell_type": "code",
   "execution_count": 42,
   "id": "b59787ea",
   "metadata": {},
   "outputs": [
    {
     "data": {
      "text/plain": [
       "Timestamp('2016-07-10 10:15:15')"
      ]
     },
     "execution_count": 42,
     "metadata": {},
     "output_type": "execute_result"
    }
   ],
   "source": [
    "pd.Timestamp('2016-07-10 10:15:15')"
   ]
  },
  {
   "cell_type": "code",
   "execution_count": null,
   "id": "9afc93e5",
   "metadata": {},
   "outputs": [],
   "source": []
  }
 ],
 "metadata": {
  "kernelspec": {
   "display_name": "Python 3 (ipykernel)",
   "language": "python",
   "name": "python3"
  },
  "language_info": {
   "codemirror_mode": {
    "name": "ipython",
    "version": 3
   },
   "file_extension": ".py",
   "mimetype": "text/x-python",
   "name": "python",
   "nbconvert_exporter": "python",
   "pygments_lexer": "ipython3",
   "version": "3.9.12"
  }
 },
 "nbformat": 4,
 "nbformat_minor": 5
}
